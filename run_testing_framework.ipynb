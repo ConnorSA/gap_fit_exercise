{
 "cells": [
  {
   "cell_type": "markdown",
   "metadata": {},
   "source": [
    "# Reproduce the Bulk modulus:\n",
    "Train multiple GAPs with the same parameters to get a mean and a standard deviation (Error bar). Simply copy the  example_dir_hetsys or example_dir_avon (depending on which machine you want to use, README.txt has info on what is inside each and how to run each case) into another folder (run001, for example). make a few copies of these directories, and run job.sh script in each directory. This will make a potential in each of those directories. The follow the bellow."
   ]
  },
  {
   "cell_type": "code",
   "execution_count": 2,
   "metadata": {},
   "outputs": [
    {
     "data": {
      "application/vnd.jupyter.widget-view+json": {
       "model_id": "c4ec938ec72845fe963f7a002ee70e36",
       "version_major": 2,
       "version_minor": 0
      },
      "text/plain": []
     },
     "metadata": {},
     "output_type": "display_data"
    }
   ],
   "source": [
    "import itertools\n",
    "import json\n",
    "import os\n",
    "import numpy as np\n",
    "import pandas as pd\n",
    "import matplotlib.pyplot as plt\n",
    "import seaborn as sns\n",
    "import nglview\n",
    "from ase.io import read"
   ]
  },
  {
   "cell_type": "markdown",
   "metadata": {},
   "source": [
    "In this notebook we will go through how to run the testing-framework: https://github.com/libAtoms/testing-framework\n",
    "\n",
    "You can clone into the repo yourself and work from within that, or you can work from inside this gap_fit_example repo. It doen't matter beyond making sure you have the right paths set etc.\n",
    "\n",
    "One thing to note if things break, you need to have matscipy installed:\n",
    "\n",
    "pip install matscipy\n"
   ]
  },
  {
   "cell_type": "code",
   "execution_count": 3,
   "metadata": {},
   "outputs": [
    {
     "name": "stdout",
     "output_type": "stream",
     "text": [
      "/home/physics/phspnt/gap_fit_exercise/testing-framework/example_models/TiAl/run_dir_hcp_Ti\n"
     ]
    }
   ],
   "source": [
    "top_directory = os.path.expanduser('~/gap_fit_exercise/')\n",
    "os.chdir(top_directory)\n",
    "#We are changing into the the following directory:\n",
    "os.chdir('testing-framework/example_models/TiAl/run_dir_hcp_Ti/')\n",
    "#this is where we will run the testing-framework to calculate the bulk modulus for a given potential.\n",
    "print(os.getcwd())"
   ]
  },
  {
   "cell_type": "code",
   "execution_count": 42,
   "metadata": {},
   "outputs": [
    {
     "name": "stdout",
     "output_type": "stream",
     "text": [
      "share_dir /home/physics/phspnt/gap_fit_exercise/testing-framework/scripts/../share\n",
      "../TiAl-model-TiAl_example_model_000-test-bulk_Ti_hcp-properties.json already exists and is not empty, not rerunning test\n",
      "share_dir /home/physics/phspnt/gap_fit_exercise/testing-framework/scripts/../share\n",
      "WARNING: Potential_initialise using default init_args \"Potential xml_label=GAP_2021_9_2_60_19_36_43_445\"\n",
      "WARNING: Potential_calc: cutoff of Atoms object (-1.0000000000000000) < Potential cutoff (6.0000000000000000) - increasing it now\n"
     ]
    }
   ],
   "source": [
    "#to now run the a test to calculate the bulk modulus + other elastic constants we use the following:\n",
    "#remember using ! means we are effectively typing this in the termal (you can do it there if you want!)\n",
    "!../../../scripts/run-model-test.py -l TiAl  TiAl_example_model_000 bulk_Ti_hcp\n",
    "#what this is doing is running a single test from the test directory TiAl for our model TiAl_example_model_000.\n",
    "#The test we are running is on bulk hcp Ti.\n",
    "#running it again on a \"different\" model. This is actually the same GAP, just labelled in a different folder.\n",
    "#with corresponding name change in the model.py.\n",
    "!../../../scripts/run-model-test.py -l TiAl  TiAl_example_model_001 bulk_Ti_hcp"
   ]
  },
  {
   "cell_type": "code",
   "execution_count": 4,
   "metadata": {},
   "outputs": [
    {
     "data": {
      "text/html": [
       "<div>\n",
       "<style scoped>\n",
       "    .dataframe tbody tr th:only-of-type {\n",
       "        vertical-align: middle;\n",
       "    }\n",
       "\n",
       "    .dataframe tbody tr th {\n",
       "        vertical-align: top;\n",
       "    }\n",
       "\n",
       "    .dataframe thead th {\n",
       "        text-align: right;\n",
       "    }\n",
       "</style>\n",
       "<table border=\"1\" class=\"dataframe\">\n",
       "  <thead>\n",
       "    <tr style=\"text-align: right;\">\n",
       "      <th></th>\n",
       "      <th>TiAl_example_model_000</th>\n",
       "      <th>TiAl_example_model_001</th>\n",
       "    </tr>\n",
       "  </thead>\n",
       "  <tbody>\n",
       "    <tr>\n",
       "      <th>B</th>\n",
       "      <td>113.153</td>\n",
       "      <td>113.153</td>\n",
       "    </tr>\n",
       "    <tr>\n",
       "      <th>c11</th>\n",
       "      <td>160.312</td>\n",
       "      <td>160.312</td>\n",
       "    </tr>\n",
       "    <tr>\n",
       "      <th>c12</th>\n",
       "      <td>66.5138</td>\n",
       "      <td>66.5138</td>\n",
       "    </tr>\n",
       "    <tr>\n",
       "      <th>c13</th>\n",
       "      <td>75.9293</td>\n",
       "      <td>75.9293</td>\n",
       "    </tr>\n",
       "    <tr>\n",
       "      <th>c33</th>\n",
       "      <td>305.938</td>\n",
       "      <td>305.938</td>\n",
       "    </tr>\n",
       "    <tr>\n",
       "      <th>c44</th>\n",
       "      <td>29.5906</td>\n",
       "      <td>29.5906</td>\n",
       "    </tr>\n",
       "    <tr>\n",
       "      <th>c66</th>\n",
       "      <td>55.2971</td>\n",
       "      <td>55.2971</td>\n",
       "    </tr>\n",
       "  </tbody>\n",
       "</table>\n",
       "</div>"
      ],
      "text/plain": [
       "    TiAl_example_model_000 TiAl_example_model_001\n",
       "B                  113.153                113.153\n",
       "c11                160.312                160.312\n",
       "c12                66.5138                66.5138\n",
       "c13                75.9293                75.9293\n",
       "c33                305.938                305.938\n",
       "c44                29.5906                29.5906\n",
       "c66                55.2971                55.2971"
      ]
     },
     "execution_count": 4,
     "metadata": {},
     "output_type": "execute_result"
    }
   ],
   "source": [
    "#now we want to load in the data that we have just calculated!\n",
    "def read_data(model_names):\n",
    "    data = {}\n",
    "    for model_name in model_names:\n",
    "        json_file = f\"TiAl-model-{model_name}-test-bulk_Ti_hcp-properties.json\"\n",
    "        model_name = os.path.basename(json_file).split('-')[2]\n",
    "        data[model_name] = json.load(open(json_file))\n",
    "    return data\n",
    "#here we can have a list of different models. \n",
    "test_models = read_data(['TiAl_example_model_000',\n",
    "                        'TiAl_example_model_001'])\n",
    "\n",
    "#lets put this in a dataframe and get rid of the energy volume curves to clean it up.\n",
    "df = pd.DataFrame(test_models)\n",
    "df = df.drop('E_vs_V')\n",
    "B = df.loc['B']\n",
    "df"
   ]
  },
  {
   "cell_type": "code",
   "execution_count": 5,
   "metadata": {},
   "outputs": [
    {
     "data": {
      "text/plain": [
       "Text(0.5, 0, 'model name')"
      ]
     },
     "execution_count": 5,
     "metadata": {},
     "output_type": "execute_result"
    },
    {
     "data": {
      "image/png": "[encoded data removed]",
      "text/plain": [
       "<Figure size 432x288 with 1 Axes>"
      ]
     },
     "metadata": {
      "needs_background": "light"
     },
     "output_type": "display_data"
    }
   ],
   "source": [
    "#CASTEP predictions (GPa), taken to be the 'true' value:\n",
    "B_truth = 129.441\n",
    "c11_truth = 210.222\n",
    "c12_truth = 79.9337\n",
    "c13_truth = 94.0298\n",
    "c33_truth = 209.045\n",
    "c44_truth = 35.4864\n",
    "c66_truth = 64.6349\n",
    "\n",
    "\n",
    "#Final GAP developed that was used in MCMD:\n",
    "B_CA_gap= 132.53\n",
    "c11_CA_gap= 223.449\n",
    "c12_CA_gap= 86.5253\n",
    "c13_CA_gap= 85.1746\n",
    "c33_CA_gap= 232.253\n",
    "c44_CA_gap= 34.2708\n",
    "c66_CA_gap= 71.9269\n",
    "\n",
    "#Average across sparse points (11 GAPs with the same paramters to get error bars)\n",
    "#B_mean_gap= 131.950 +/- 0.809\n",
    "#c11_mean_gap=219.663 +/- 2.688\n",
    "#c12_mean_gap=82.0240 +/- 3.616\n",
    "#c13_mean_gap=86.406 +/- 1.686\n",
    "#c33_mean_gap=240.106 +/- 3.824\n",
    "#c44_mean_gap=35.869 +/- 0.936\n",
    "#c66_mean_gap=71.674 +/- 2.398\n",
    "\n",
    "\n",
    "plt.plot(B, 'x')\n",
    "plt.ylabel('Bulk modulus (GPa)')\n",
    "plt.xlabel('model name')"
   ]
  },
  {
   "cell_type": "markdown",
   "metadata": {},
   "source": []
  },
  {
   "cell_type": "code",
   "execution_count": null,
   "metadata": {},
   "outputs": [],
   "source": []
  }
 ],
 "metadata": {
  "kernelspec": {
   "display_name": "Python 3",
   "language": "python",
   "name": "python3"
  },
  "language_info": {
   "codemirror_mode": {
    "name": "ipython",
    "version": 3
   },
   "file_extension": ".py",
   "mimetype": "text/x-python",
   "name": "python",
   "nbconvert_exporter": "python",
   "pygments_lexer": "ipython3",
   "version": "3.6.6"
  }
 },
 "nbformat": 4,
 "nbformat_minor": 2
}
