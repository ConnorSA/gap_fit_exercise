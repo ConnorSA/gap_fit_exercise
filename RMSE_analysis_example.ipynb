{
 "cells": [
  {
   "cell_type": "code",
   "execution_count": 12,
   "metadata": {},
   "outputs": [],
   "source": [
    "import ase, ase.io\n",
    "import matplotlib.pyplot as plt\n",
    "import numpy as np"
   ]
  },
  {
   "cell_type": "markdown",
   "metadata": {},
   "source": [
    "# Further stuff:\n",
    "This is another way to benchmark potentials. "
   ]
  },
  {
   "cell_type": "code",
   "execution_count": 24,
   "metadata": {},
   "outputs": [],
   "source": [
    "def get_rmse(results_path, melt=False):\n",
    "    #print(\"get melt?   \", melt)\n",
    "    test_data_path = results_path + \"test_data.xyz\"\n",
    "    train_data_path = results_path + \"train_data.xyz\"\n",
    "    if melt==True:\n",
    "        atoms = ase.io.read(test_data_path, index=':')\n",
    "        atoms_melt=[]\n",
    "        for j, val in enumerate(atoms):     \n",
    "            if val.info['config_type'] == 'Ti_T4200': atoms_melt.append(val)\n",
    "            if val.info['config_type'] == 'Ti_T3700': atoms_melt.append(val)\n",
    "            if val.info['config_type'] == 'TiAl_T5000': atoms_melt.append(val)\n",
    "            if val.info['config_type'] == 'TiAl3_T5000': atoms_melt.append(val)\n",
    "            if val.info['config_type'] == 'Ti3Al_T5000': atoms_melt.append(val)\n",
    "            if val.info['config_type'] == 'Al_T3000': atoms_melt.append(val)\n",
    "            if val.info['config_type'] == 'Al_T4000': atoms_melt.append(val)\n",
    "        atoms_data_test = atoms_melt\n",
    "        atoms = ase.io.read(train_data_path, index=':')\n",
    "        atoms_melt=[]\n",
    "        for j, val in enumerate(atoms):     \n",
    "            if val.info['config_type'] == 'Ti_T4200': atoms_melt.append(val)\n",
    "            if val.info['config_type'] == 'Ti_T3700': atoms_melt.append(val)\n",
    "            if val.info['config_type'] == 'TiAl_T5000': atoms_melt.append(val)\n",
    "            if val.info['config_type'] == 'TiAl3_T5000': atoms_melt.append(val)\n",
    "            if val.info['config_type'] == 'Ti3Al_T5000': atoms_melt.append(val)\n",
    "            if val.info['config_type'] == 'Al_T3000': atoms_melt.append(val)\n",
    "            if val.info['config_type'] == 'Al_T4000': atoms_melt.append(val)\n",
    "        atoms_data_train = atoms_melt\n",
    "    else:\n",
    "        atoms_data_test = ase.io.read(test_data_path, index=':')\n",
    "        atoms_data_train = ase.io.read(train_data_path, index=':')\n",
    "    atoms_test = []\n",
    "    atoms_train = []\n",
    "    atoms = ase.io.read(results_path+ 'TiAl_results_test.xyz', index=':')\n",
    "    atoms2 = ase.io.read(results_path+ 'TiAl_results_train.xyz', index=':')\n",
    "    if melt==True:\n",
    "            #print('getting melt')\n",
    "        atoms_melt=[]\n",
    "        for j, val in enumerate(atoms):     \n",
    "            if val.info['config_type'] == 'Ti_T4200': atoms_melt.append(val)\n",
    "            if val.info['config_type'] == 'Ti_T3700': atoms_melt.append(val)\n",
    "            if val.info['config_type'] == 'TiAl_T5000': atoms_melt.append(val)\n",
    "            if val.info['config_type'] == 'TiAl3_T5000': atoms_melt.append(val)\n",
    "            if val.info['config_type'] == 'Ti3Al_T5000': atoms_melt.append(val)\n",
    "            if val.info['config_type'] == 'Al_T3000': atoms_melt.append(val)\n",
    "            if val.info['config_type'] == 'Al_T4000': atoms_melt.append(val)\n",
    "        atoms_test.append(atoms_melt)\n",
    "        atoms_melt=[]\n",
    "        for j, val in enumerate(atoms2):     \n",
    "            if val.info['config_type'] == 'Ti_T4200': atoms_melt.append(val)\n",
    "            if val.info['config_type'] == 'Ti_T3700': atoms_melt.append(val)\n",
    "            if val.info['config_type'] == 'TiAl_T5000': atoms_melt.append(val)\n",
    "            if val.info['config_type'] == 'TiAl3_T5000': atoms_melt.append(val)\n",
    "            if val.info['config_type'] == 'Ti3Al_T5000': atoms_melt.append(val)\n",
    "            if val.info['config_type'] == 'Al_T3000': atoms_melt.append(val)\n",
    "            if val.info['config_type'] == 'Al_T4000': atoms_melt.append(val)\n",
    "        atoms_train.append(atoms_melt)\n",
    "    else:\n",
    "            #print('all data')\n",
    "        atoms_test.append(atoms)        \n",
    "        atoms_train.append(atoms2)\n",
    "        \n",
    "    rmse_test =[]\n",
    "    rmse_train=[]  \n",
    "    E_test_data=[]\n",
    "    E_train_data=[]\n",
    "    for i in atoms_data_test:\n",
    "        E_test_data.append(i.info['energy']/len(i))\n",
    "    for i in atoms_data_train:\n",
    "        E_train_data.append(i.info['energy']/len(i))    \n",
    "    for i, test in enumerate(atoms_test):\n",
    "        E_test_result=[]\n",
    "        for j in range(len(atoms_test[0])):\n",
    "            E_test_result.append(test[j].info['energy']/len(test[j]))\n",
    "        rmse_test.append(np.sqrt(np.mean(np.array(E_test_data)-np.array(E_test_result))**2))\n",
    "        \n",
    "    for i, train in enumerate(atoms_train):\n",
    "        E_train_result=[]\n",
    "        for j in range(len(atoms_train[0])):\n",
    "            E_train_result.append(train[j].info['energy']/len(train[j]))\n",
    "        rmse_train.append(np.sqrt(np.mean(np.array(E_train_data)-np.array(E_train_result))**2)) \n",
    "    \n",
    "    return np.array(rmse_test), np.array(rmse_train)"
   ]
  },
  {
   "cell_type": "code",
   "execution_count": 35,
   "metadata": {
    "scrolled": true
   },
   "outputs": [],
   "source": [
    "#get the RMSE of the forces in each configuration.\n",
    "def get_F_rmse(results_path):\n",
    "    test_data_path = results_path + \"test_data.xyz\"\n",
    "    train_data_path = results_path + \"train_data.xyz\"\n",
    "    atoms_data_test = ase.io.read(test_data_path, index=':')\n",
    "    atoms_data_train = ase.io.read(train_data_path, index=':')\n",
    "    atoms_test = ase.io.read(results_path+ 'TiAl_results_test.xyz', index=':')\n",
    "    atoms_train = ase.io.read(results_path+ 'TiAl_results_train.xyz', index=':')\n",
    "    \n",
    "    rmse_test=[]\n",
    "    rmse_train = []\n",
    "    for i, atoms in enumerate(atoms_test):\n",
    "        F_test=[]\n",
    "        F_test_data=[]\n",
    "        for j in range(len(atoms)):\n",
    "            F_test.append(np.linalg.norm(atoms.arrays['force'][j])/len(atoms))\n",
    "            F_test_data.append(np.linalg.norm(atoms_data_test[i].arrays['force'][j])/len(atoms_data_test[i]))\n",
    "        rmse_test.append(np.sqrt(np.mean(np.array(F_test_data)-np.array(F_test))**2))\n",
    "    for i, atoms in enumerate(atoms_train):\n",
    "        F_test=[]\n",
    "        F_test_data=[]\n",
    "        for j in range(len(atoms)):\n",
    "            F_test.append(np.linalg.norm(atoms.arrays['force'][j])/len(atoms))\n",
    "            F_test_data.append(np.linalg.norm(atoms_data_train[i].arrays['force'][j])/len(atoms_data_train[i]))\n",
    "        rmse_train.append(np.sqrt(np.mean(np.array(F_test_data)-np.array(F_test))**2)) \n",
    "                               \n",
    "    return rmse_test, rmse_train\n"
   ]
  },
  {
   "cell_type": "code",
   "execution_count": 36,
   "metadata": {},
   "outputs": [],
   "source": [
    "#in here we have some predictions from a GAP with a SOAP and Pair pot. (Note gap_fit appears to be a bit buggy\n",
    "# on avon, but shoud work for a SOAP descripor: see the job_avon.sh in example_dir_avon). this job was ran on\n",
    "#hetmathsys node.\n",
    "example_run_dir = 'example_dir_hetsys/'\n",
    "\n",
    "RMSE_test_data, RMSE_train_data= get_rmse(example_run_dir)\n",
    "RMSE_test_data_melt, RMSE_train_data_melt = get_rmse(example_run_dir, melt=True)"
   ]
  },
  {
   "cell_type": "code",
   "execution_count": 37,
   "metadata": {},
   "outputs": [
    {
     "name": "stdout",
     "output_type": "stream",
     "text": [
      "The RMSE of the total energy in test and train structures: [0.00095456] [0.00018894] eV\n",
      "The RMSE of the total energy in test and train melted structures: [0.01135058] [8.17646579e-05] eV\n"
     ]
    }
   ],
   "source": [
    "print('The RMSE of the total energy in test and train structures:',RMSE_test_data, RMSE_train_data, 'eV')\n",
    "print('The RMSE of the total energy in test and train melted structures:',RMSE_test_data_melt, RMSE_train_data_melt, 'eV')"
   ]
  },
  {
   "cell_type": "code",
   "execution_count": 38,
   "metadata": {},
   "outputs": [],
   "source": [
    "RMSE_forces_test, RMSE_forces_train=get_F_rmse(example_run_dir)"
   ]
  },
  {
   "cell_type": "code",
   "execution_count": 44,
   "metadata": {},
   "outputs": [
    {
     "data": {
      "text/plain": [
       "Text(0, 0.5, 'RMSE of forces (eV/$\\\\AA$)')"
      ]
     },
     "execution_count": 44,
     "metadata": {},
     "output_type": "execute_result"
    },
    {
     "data": {
      "image/png": "[encoded data removed]",
      "text/plain": [
       "<Figure size 432x288 with 1 Axes>"
      ]
     },
     "metadata": {
      "needs_background": "light"
     },
     "output_type": "display_data"
    }
   ],
   "source": [
    "plt.plot(RMSE_forces_train, 'x')\n",
    "plt.xlabel('number of configurations')\n",
    "plt.ylabel('RMSE of forces (eV/$\\AA$)')"
   ]
  },
  {
   "cell_type": "code",
   "execution_count": 59,
   "metadata": {},
   "outputs": [],
   "source": [
    "#loading in atoms objects\n",
    "atoms_test= ase.io.read('example_dir_hetsys/test_data.xyz', index=':')\n",
    "atoms_test_results = ase.io.read('example_dir_hetsys/TiAl_results_test.xyz', index=':')\n",
    "E_test = []\n",
    "E_test_results=[]\n",
    "#collecting the total energy of each config.\n",
    "for i, val in enumerate(atoms_test):\n",
    "    E_test.append(atoms_test[i].get_potential_energy())\n",
    "    E_test_results.append(atoms_test_results[i].get_potential_energy())"
   ]
  },
  {
   "cell_type": "code",
   "execution_count": 61,
   "metadata": {},
   "outputs": [
    {
     "data": {
      "text/plain": [
       "Text(0.5, 0, 'model output (eV)')"
      ]
     },
     "execution_count": 61,
     "metadata": {},
     "output_type": "execute_result"
    },
    {
     "data": {
      "image/png": "[encoded data removed]",
      "text/plain": [
       "<Figure size 432x288 with 1 Axes>"
      ]
     },
     "metadata": {
      "needs_background": "light"
     },
     "output_type": "display_data"
    }
   ],
   "source": [
    "plt.plot(E_test_results, E_test, 'x')\n",
    "plt.ylabel('target energy (eV)')\n",
    "plt.xlabel('model output (eV)')"
   ]
  },
  {
   "cell_type": "code",
   "execution_count": 67,
   "metadata": {},
   "outputs": [
    {
     "data": {
      "application/vnd.jupyter.widget-view+json": {
       "model_id": "a09115197e6443789383114771f23053",
       "version_major": 2,
       "version_minor": 0
      },
      "text/plain": []
     },
     "metadata": {},
     "output_type": "display_data"
    },
    {
     "data": {
      "application/vnd.jupyter.widget-view+json": {
       "model_id": "c589894241794ed0bd6f0a281b2b97b1",
       "version_major": 2,
       "version_minor": 0
      },
      "text/plain": [
       "HBox(children=(NGLWidget(max_frame=1882), VBox(children=(Dropdown(description='Show', options=('All', 'Al'), v…"
      ]
     },
     "metadata": {},
     "output_type": "display_data"
    }
   ],
   "source": [
    "#visualise some configs.\n",
    "from ase.visualize import view\n",
    "view(atoms_test, viewer='ngl')"
   ]
  },
  {
   "cell_type": "code",
   "execution_count": null,
   "metadata": {},
   "outputs": [],
   "source": []
  }
 ],
 "metadata": {
  "kernelspec": {
   "display_name": "Python 3",
   "language": "python",
   "name": "python3"
  },
  "language_info": {
   "codemirror_mode": {
    "name": "ipython",
    "version": 3
   },
   "file_extension": ".py",
   "mimetype": "text/x-python",
   "name": "python",
   "nbconvert_exporter": "python",
   "pygments_lexer": "ipython3",
   "version": "3.6.6"
  }
 },
 "nbformat": 4,
 "nbformat_minor": 2
}
